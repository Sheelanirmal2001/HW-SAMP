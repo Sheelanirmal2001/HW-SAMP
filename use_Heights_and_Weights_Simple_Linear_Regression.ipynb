{
  "cells": [
    {
      "cell_type": "markdown",
      "metadata": {
        "id": "zbu83fkVS_7_"
      },
      "source": [
        "This is a simple dataset to start with.\n",
        "\n",
        "It contains only the height and weights\n",
        "\n",
        "different humans . This dataset can be\n",
        "\n",
        " used to build a model that can predict\n",
        "\n",
        " the heights or weights of a human.\n",
        "\n",
        "Build a predictive model for determining height or weight of a person."
      ]
    },
    {
      "cell_type": "markdown",
      "metadata": {
        "id": "FCxKr3rCSV-g"
      },
      "source": [
        "    \n",
        "Content:\n",
        "1. Import Libraries\n",
        "2. Import the Dataset\n",
        "3. Taking Care of Missing Data\n",
        "4. Visualization of the Dataset\n",
        "5. Split the Dataset into Training Set and Test set\n",
        "6. Training the Simple Linear Regression Model on the Training Set\n",
        "7. Visualization of Models\n",
        "    * Training Set Visualization\n",
        "    * Test Set Visualization"
      ]
    },
    {
      "cell_type": "markdown",
      "metadata": {
        "id": "RqfkvUgHSV-j"
      },
      "source": [
        "Import Libraries"
      ]
    },
    {
      "cell_type": "code",
      "execution_count": 1,
      "metadata": {
        "id": "CBpCklCSSV-m",
        "trusted": true
      },
      "outputs": [],
      "source": [
        "import pandas as pd\n",
        "import matplotlib.pyplot as plt\n",
        "import numpy as np"
      ]
    },
    {
      "cell_type": "code",
      "execution_count": 2,
      "metadata": {},
      "outputs": [
        {
          "name": "stdout",
          "output_type": "stream",
          "text": [
            "Requirement already satisfied: matplotlib in c:\\users\\user\\appdata\\local\\programs\\python\\python312\\lib\\site-packages (3.9.2)\n",
            "Requirement already satisfied: contourpy>=1.0.1 in c:\\users\\user\\appdata\\local\\programs\\python\\python312\\lib\\site-packages (from matplotlib) (1.3.0)\n",
            "Requirement already satisfied: cycler>=0.10 in c:\\users\\user\\appdata\\local\\programs\\python\\python312\\lib\\site-packages (from matplotlib) (0.12.1)\n",
            "Requirement already satisfied: fonttools>=4.22.0 in c:\\users\\user\\appdata\\local\\programs\\python\\python312\\lib\\site-packages (from matplotlib) (4.53.1)\n",
            "Requirement already satisfied: kiwisolver>=1.3.1 in c:\\users\\user\\appdata\\local\\programs\\python\\python312\\lib\\site-packages (from matplotlib) (1.4.5)\n",
            "Requirement already satisfied: numpy>=1.23 in c:\\users\\user\\appdata\\local\\programs\\python\\python312\\lib\\site-packages (from matplotlib) (2.0.1)\n",
            "Requirement already satisfied: packaging>=20.0 in c:\\users\\user\\appdata\\roaming\\python\\python312\\site-packages (from matplotlib) (24.1)\n",
            "Requirement already satisfied: pillow>=8 in c:\\users\\user\\appdata\\local\\programs\\python\\python312\\lib\\site-packages (from matplotlib) (10.4.0)\n",
            "Requirement already satisfied: pyparsing>=2.3.1 in c:\\users\\user\\appdata\\local\\programs\\python\\python312\\lib\\site-packages (from matplotlib) (3.1.4)\n",
            "Requirement already satisfied: python-dateutil>=2.7 in c:\\users\\user\\appdata\\roaming\\python\\python312\\site-packages (from matplotlib) (2.9.0.post0)\n",
            "Requirement already satisfied: six>=1.5 in c:\\users\\user\\appdata\\roaming\\python\\python312\\site-packages (from python-dateutil>=2.7->matplotlib) (1.16.0)\n",
            "Note: you may need to restart the kernel to use updated packages.\n"
          ]
        }
      ],
      "source": [
        "pip install matplotlib"
      ]
    },
    {
      "cell_type": "markdown",
      "metadata": {
        "id": "D1yMG_tGSV-n"
      },
      "source": [
        "Import the dataset"
      ]
    },
    {
      "cell_type": "code",
      "execution_count": 3,
      "metadata": {
        "id": "ixWApk4xU50i"
      },
      "outputs": [],
      "source": [
        "df = pd.read_csv('data.csv')"
      ]
    },
    {
      "cell_type": "code",
      "execution_count": 4,
      "metadata": {
        "colab": {
          "base_uri": "https://localhost:8080/",
          "height": 519
        },
        "id": "oWjVOXUoSV-p",
        "outputId": "495d86d5-4fe4-444d-e888-510fdf18ff65",
        "trusted": true
      },
      "outputs": [
        {
          "data": {
            "text/html": [
              "<div>\n",
              "<style scoped>\n",
              "    .dataframe tbody tr th:only-of-type {\n",
              "        vertical-align: middle;\n",
              "    }\n",
              "\n",
              "    .dataframe tbody tr th {\n",
              "        vertical-align: top;\n",
              "    }\n",
              "\n",
              "    .dataframe thead th {\n",
              "        text-align: right;\n",
              "    }\n",
              "</style>\n",
              "<table border=\"1\" class=\"dataframe\">\n",
              "  <thead>\n",
              "    <tr style=\"text-align: right;\">\n",
              "      <th></th>\n",
              "      <th>Height</th>\n",
              "      <th>Weight</th>\n",
              "    </tr>\n",
              "  </thead>\n",
              "  <tbody>\n",
              "    <tr>\n",
              "      <th>0</th>\n",
              "      <td>1.47</td>\n",
              "      <td>52.21</td>\n",
              "    </tr>\n",
              "    <tr>\n",
              "      <th>1</th>\n",
              "      <td>1.50</td>\n",
              "      <td>53.12</td>\n",
              "    </tr>\n",
              "    <tr>\n",
              "      <th>2</th>\n",
              "      <td>1.52</td>\n",
              "      <td>54.48</td>\n",
              "    </tr>\n",
              "    <tr>\n",
              "      <th>3</th>\n",
              "      <td>1.55</td>\n",
              "      <td>55.84</td>\n",
              "    </tr>\n",
              "    <tr>\n",
              "      <th>4</th>\n",
              "      <td>1.57</td>\n",
              "      <td>57.20</td>\n",
              "    </tr>\n",
              "    <tr>\n",
              "      <th>5</th>\n",
              "      <td>1.60</td>\n",
              "      <td>58.57</td>\n",
              "    </tr>\n",
              "    <tr>\n",
              "      <th>6</th>\n",
              "      <td>1.63</td>\n",
              "      <td>59.93</td>\n",
              "    </tr>\n",
              "    <tr>\n",
              "      <th>7</th>\n",
              "      <td>1.65</td>\n",
              "      <td>61.29</td>\n",
              "    </tr>\n",
              "    <tr>\n",
              "      <th>8</th>\n",
              "      <td>1.68</td>\n",
              "      <td>63.11</td>\n",
              "    </tr>\n",
              "    <tr>\n",
              "      <th>9</th>\n",
              "      <td>1.70</td>\n",
              "      <td>64.47</td>\n",
              "    </tr>\n",
              "    <tr>\n",
              "      <th>10</th>\n",
              "      <td>1.73</td>\n",
              "      <td>66.28</td>\n",
              "    </tr>\n",
              "    <tr>\n",
              "      <th>11</th>\n",
              "      <td>1.75</td>\n",
              "      <td>68.10</td>\n",
              "    </tr>\n",
              "    <tr>\n",
              "      <th>12</th>\n",
              "      <td>1.78</td>\n",
              "      <td>69.92</td>\n",
              "    </tr>\n",
              "    <tr>\n",
              "      <th>13</th>\n",
              "      <td>1.80</td>\n",
              "      <td>72.19</td>\n",
              "    </tr>\n",
              "    <tr>\n",
              "      <th>14</th>\n",
              "      <td>1.83</td>\n",
              "      <td>74.46</td>\n",
              "    </tr>\n",
              "  </tbody>\n",
              "</table>\n",
              "</div>"
            ],
            "text/plain": [
              "    Height  Weight\n",
              "0     1.47   52.21\n",
              "1     1.50   53.12\n",
              "2     1.52   54.48\n",
              "3     1.55   55.84\n",
              "4     1.57   57.20\n",
              "5     1.60   58.57\n",
              "6     1.63   59.93\n",
              "7     1.65   61.29\n",
              "8     1.68   63.11\n",
              "9     1.70   64.47\n",
              "10    1.73   66.28\n",
              "11    1.75   68.10\n",
              "12    1.78   69.92\n",
              "13    1.80   72.19\n",
              "14    1.83   74.46"
            ]
          },
          "execution_count": 4,
          "metadata": {},
          "output_type": "execute_result"
        }
      ],
      "source": [
        "df"
      ]
    },
    {
      "cell_type": "markdown",
      "metadata": {
        "id": "gxEurW-rSV-q"
      },
      "source": [
        "There are 2 columns, height and weight.  \n",
        "Also there are 15 entries. Since this dataset is not that big, it can be clearly seen that there is not any null value.  \n"
      ]
    },
    {
      "cell_type": "code",
      "execution_count": 5,
      "metadata": {
        "colab": {
          "base_uri": "https://localhost:8080/",
          "height": 300
        },
        "id": "C8Zg3h15SV-q",
        "outputId": "f73036d0-6793-40d1-cdad-d449c3de3a2c",
        "trusted": true
      },
      "outputs": [
        {
          "data": {
            "text/html": [
              "<div>\n",
              "<style scoped>\n",
              "    .dataframe tbody tr th:only-of-type {\n",
              "        vertical-align: middle;\n",
              "    }\n",
              "\n",
              "    .dataframe tbody tr th {\n",
              "        vertical-align: top;\n",
              "    }\n",
              "\n",
              "    .dataframe thead th {\n",
              "        text-align: right;\n",
              "    }\n",
              "</style>\n",
              "<table border=\"1\" class=\"dataframe\">\n",
              "  <thead>\n",
              "    <tr style=\"text-align: right;\">\n",
              "      <th></th>\n",
              "      <th>Height</th>\n",
              "      <th>Weight</th>\n",
              "    </tr>\n",
              "  </thead>\n",
              "  <tbody>\n",
              "    <tr>\n",
              "      <th>count</th>\n",
              "      <td>15.000000</td>\n",
              "      <td>15.000000</td>\n",
              "    </tr>\n",
              "    <tr>\n",
              "      <th>mean</th>\n",
              "      <td>1.650667</td>\n",
              "      <td>62.078000</td>\n",
              "    </tr>\n",
              "    <tr>\n",
              "      <th>std</th>\n",
              "      <td>0.114235</td>\n",
              "      <td>7.037515</td>\n",
              "    </tr>\n",
              "    <tr>\n",
              "      <th>min</th>\n",
              "      <td>1.470000</td>\n",
              "      <td>52.210000</td>\n",
              "    </tr>\n",
              "    <tr>\n",
              "      <th>25%</th>\n",
              "      <td>1.560000</td>\n",
              "      <td>56.520000</td>\n",
              "    </tr>\n",
              "    <tr>\n",
              "      <th>50%</th>\n",
              "      <td>1.650000</td>\n",
              "      <td>61.290000</td>\n",
              "    </tr>\n",
              "    <tr>\n",
              "      <th>75%</th>\n",
              "      <td>1.740000</td>\n",
              "      <td>67.190000</td>\n",
              "    </tr>\n",
              "    <tr>\n",
              "      <th>max</th>\n",
              "      <td>1.830000</td>\n",
              "      <td>74.460000</td>\n",
              "    </tr>\n",
              "  </tbody>\n",
              "</table>\n",
              "</div>"
            ],
            "text/plain": [
              "          Height     Weight\n",
              "count  15.000000  15.000000\n",
              "mean    1.650667  62.078000\n",
              "std     0.114235   7.037515\n",
              "min     1.470000  52.210000\n",
              "25%     1.560000  56.520000\n",
              "50%     1.650000  61.290000\n",
              "75%     1.740000  67.190000\n",
              "max     1.830000  74.460000"
            ]
          },
          "execution_count": 5,
          "metadata": {},
          "output_type": "execute_result"
        }
      ],
      "source": [
        "df.describe()"
      ]
    },
    {
      "cell_type": "markdown",
      "metadata": {
        "id": "-oZjDF2nSV-r"
      },
      "source": [
        "Statistical results are shown above.  \n",
        "Maximum height is 183 cm. Minimum height is 147 cm. Mean height is 165 cm.  \n",
        "Maximum weight is 74.46 kg. Minimum weight is 52.21 kg. Mean weight is 62 kg.\n"
      ]
    },
    {
      "cell_type": "code",
      "execution_count": 6,
      "metadata": {
        "id": "BzuOlYW1SV-o",
        "trusted": true
      },
      "outputs": [],
      "source": [
        "x = df.iloc[:, 0] #heights\n",
        "y = df.iloc[:, 1] #weights"
      ]
    },
    {
      "cell_type": "markdown",
      "metadata": {
        "id": "919sSq_VktrJ"
      },
      "source": [
        "The iloc() function in Python is a method provided by the pandas library, which is widely used for data analysis and manipulation.\n",
        "\n",
        "It stands for \"integer location\" and is primarily used for accessing and retrieving data from pandas DataFrame objects using integer-based indexing.\n",
        "\n",
        "The iloc() function allows you to access specific rows and columns of a DataFrame by providing the integer-based indices."
      ]
    },
    {
      "cell_type": "code",
      "execution_count": 7,
      "metadata": {
        "colab": {
          "base_uri": "https://localhost:8080/"
        },
        "id": "fQsGCeDLXNxi",
        "outputId": "6e9bfe40-15f4-4aae-8b73-2638fff87043"
      },
      "outputs": [
        {
          "data": {
            "text/plain": [
              "0     1.47\n",
              "1     1.50\n",
              "2     1.52\n",
              "3     1.55\n",
              "4     1.57\n",
              "5     1.60\n",
              "6     1.63\n",
              "7     1.65\n",
              "8     1.68\n",
              "9     1.70\n",
              "10    1.73\n",
              "11    1.75\n",
              "12    1.78\n",
              "13    1.80\n",
              "14    1.83\n",
              "Name: Height, dtype: float64"
            ]
          },
          "execution_count": 7,
          "metadata": {},
          "output_type": "execute_result"
        }
      ],
      "source": [
        "x"
      ]
    },
    {
      "cell_type": "code",
      "execution_count": 8,
      "metadata": {
        "colab": {
          "base_uri": "https://localhost:8080/"
        },
        "id": "Akwl7sNjXOEo",
        "outputId": "23635b9e-5a9b-4c1a-8681-1491b7d4e30b"
      },
      "outputs": [
        {
          "data": {
            "text/plain": [
              "0     52.21\n",
              "1     53.12\n",
              "2     54.48\n",
              "3     55.84\n",
              "4     57.20\n",
              "5     58.57\n",
              "6     59.93\n",
              "7     61.29\n",
              "8     63.11\n",
              "9     64.47\n",
              "10    66.28\n",
              "11    68.10\n",
              "12    69.92\n",
              "13    72.19\n",
              "14    74.46\n",
              "Name: Weight, dtype: float64"
            ]
          },
          "execution_count": 8,
          "metadata": {},
          "output_type": "execute_result"
        }
      ],
      "source": [
        "y"
      ]
    },
    {
      "cell_type": "markdown",
      "metadata": {
        "id": "h0GkkfgKSV-r"
      },
      "source": [
        "Taking Care of Missing Data\n",
        "Check whether there is null entry or not.\n",
        "\n",
        ".notnull() returns True or False for each row.  \n",
        "\n",
        ".all() checks whether all of them is True."
      ]
    },
    {
      "cell_type": "code",
      "execution_count": 9,
      "metadata": {
        "colab": {
          "base_uri": "https://localhost:8080/"
        },
        "id": "8sPL619pSV-r",
        "outputId": "dd8a3951-327f-47be-dd80-62de1a21eb0a",
        "trusted": true
      },
      "outputs": [
        {
          "data": {
            "text/plain": [
              "np.True_"
            ]
          },
          "execution_count": 9,
          "metadata": {},
          "output_type": "execute_result"
        }
      ],
      "source": [
        "x.notnull().all()"
      ]
    },
    {
      "cell_type": "code",
      "execution_count": 10,
      "metadata": {
        "colab": {
          "base_uri": "https://localhost:8080/"
        },
        "id": "HnTnuMt7SV-s",
        "outputId": "aa34b4d6-7f35-488d-80c7-f75b55320e3c",
        "trusted": true
      },
      "outputs": [
        {
          "data": {
            "text/plain": [
              "np.True_"
            ]
          },
          "execution_count": 10,
          "metadata": {},
          "output_type": "execute_result"
        }
      ],
      "source": [
        "y.notnull().all()"
      ]
    },
    {
      "cell_type": "code",
      "execution_count": 11,
      "metadata": {
        "colab": {
          "base_uri": "https://localhost:8080/"
        },
        "id": "UWraDtJcaAaa",
        "outputId": "f2791472-b971-420a-cb7c-680370da8bd8"
      },
      "outputs": [
        {
          "data": {
            "text/plain": [
              "np.int64(0)"
            ]
          },
          "execution_count": 11,
          "metadata": {},
          "output_type": "execute_result"
        }
      ],
      "source": [
        "x.isnull().sum()"
      ]
    },
    {
      "cell_type": "markdown",
      "metadata": {
        "id": "v5phWWm2SV-s"
      },
      "source": [
        " Visualization of the Dataset\n",
        "\n"
      ]
    },
    {
      "cell_type": "markdown",
      "metadata": {
        "id": "2T8dIhl5SV-t"
      },
      "source": [
        "<a id = \"5\"></a><br>\n",
        "# Split the Dataset into Training Set and Test Set"
      ]
    },
    {
      "cell_type": "code",
      "execution_count": 13,
      "metadata": {},
      "outputs": [
        {
          "name": "stdout",
          "output_type": "stream",
          "text": [
            "Collecting scikit-learn\n",
            "  Using cached scikit_learn-1.5.1-cp312-cp312-win_amd64.whl.metadata (12 kB)\n",
            "Requirement already satisfied: numpy>=1.19.5 in c:\\users\\user\\appdata\\local\\programs\\python\\python312\\lib\\site-packages (from scikit-learn) (2.0.1)\n",
            "Collecting scipy>=1.6.0 (from scikit-learn)\n",
            "  Using cached scipy-1.14.1-cp312-cp312-win_amd64.whl.metadata (60 kB)\n",
            "Collecting joblib>=1.2.0 (from scikit-learn)\n",
            "  Using cached joblib-1.4.2-py3-none-any.whl.metadata (5.4 kB)\n",
            "Collecting threadpoolctl>=3.1.0 (from scikit-learn)\n",
            "  Using cached threadpoolctl-3.5.0-py3-none-any.whl.metadata (13 kB)\n",
            "Using cached scikit_learn-1.5.1-cp312-cp312-win_amd64.whl (10.9 MB)\n",
            "Using cached joblib-1.4.2-py3-none-any.whl (301 kB)\n",
            "Using cached scipy-1.14.1-cp312-cp312-win_amd64.whl (44.5 MB)\n",
            "Using cached threadpoolctl-3.5.0-py3-none-any.whl (18 kB)\n",
            "Installing collected packages: threadpoolctl, scipy, joblib, scikit-learn\n",
            "Successfully installed joblib-1.4.2 scikit-learn-1.5.1 scipy-1.14.1 threadpoolctl-3.5.0\n",
            "Note: you may need to restart the kernel to use updated packages.\n"
          ]
        }
      ],
      "source": [
        "pip install scikit-learn"
      ]
    },
    {
      "cell_type": "code",
      "execution_count": 14,
      "metadata": {
        "id": "TPSeLFnnSV-t",
        "trusted": true
      },
      "outputs": [],
      "source": [
        "from sklearn.model_selection import train_test_split\n",
        "x = x.values.reshape(15, 1)\n",
        "y = y.values\n",
        "x_train, x_test, y_train, y_test = train_test_split(x, y,test_size = 0.2, random_state = 0)"
      ]
    },
    {
      "cell_type": "markdown",
      "metadata": {
        "id": "4_sKWNyHSV-t"
      },
      "source": [
        "<a id = \"6\"></a><br>\n",
        "# Training the Simple Linear Regression Model on the Training Set"
      ]
    },
    {
      "cell_type": "code",
      "execution_count": 16,
      "metadata": {
        "id": "WqFxbeZcSV-u",
        "trusted": true
      },
      "outputs": [],
      "source": [
        "from sklearn.linear_model import LinearRegression\n",
        "linear_reg = LinearRegression()\n",
        "linear_reg.fit(x_train, y_train)\n",
        "y_pred = linear_reg.predict(x_test)"
      ]
    },
    {
      "cell_type": "markdown",
      "metadata": {
        "id": "uqeEdXQuSV-u"
      },
      "source": [
        "<a id = \"7\"></a><br>\n",
        "# Visualization of the Models\n",
        "\n",
        "1. [Training Set Visualization](#8)\n",
        "2. [Test Set Visualization](#9)"
      ]
    },
    {
      "cell_type": "markdown",
      "metadata": {
        "id": "I_0XJveDSV-u"
      },
      "source": [
        "<a id = \"8\"></a><br>\n",
        "## 1. Training Set Visualization"
      ]
    },
    {
      "cell_type": "code",
      "execution_count": 17,
      "metadata": {
        "colab": {
          "base_uri": "https://localhost:8080/",
          "height": 472
        },
        "id": "JC_hLZHqSV-u",
        "outputId": "06c37557-f9a9-4feb-fd1c-441fef28b46c",
        "trusted": true
      },
      "outputs": [
        {
          "data": {
            "image/png": "[encoded data removed]",
            "text/plain": [
              "<Figure size 640x480 with 1 Axes>"
            ]
          },
          "metadata": {},
          "output_type": "display_data"
        }
      ],
      "source": [
        "plt.scatter(x_train, y_train, color = 'red')\n",
        "plt.plot(x_train, linear_reg.predict(x_train))\n",
        "plt.xlabel('Height')\n",
        "plt.ylabel('Weight')\n",
        "plt.title('Height vs Weight')\n",
        "plt.show()"
      ]
    },
    {
      "cell_type": "markdown",
      "metadata": {
        "id": "JDXMBhRjSV-u"
      },
      "source": [
        "<a id = \"9\"></a><br>\n",
        "## Test Set Visualization"
      ]
    },
    {
      "cell_type": "code",
      "execution_count": 18,
      "metadata": {
        "colab": {
          "base_uri": "https://localhost:8080/",
          "height": 472
        },
        "id": "ITuwIaXjSV-u",
        "outputId": "ec4947a7-2cf1-49df-9e8b-4509a0ac8b3f",
        "trusted": true
      },
      "outputs": [
        {
          "data": {
            "image/png": "[encoded data removed]",
            "text/plain": [
              "<Figure size 640x480 with 1 Axes>"
            ]
          },
          "metadata": {},
          "output_type": "display_data"
        }
      ],
      "source": [
        "plt.scatter(x_test, y_test, color = 'red')\n",
        "plt.plot(x_train, linear_reg.predict(x_train))\n",
        "plt.xlabel('Height')\n",
        "plt.ylabel('Weight')\n",
        "plt.title('Height vs Weight')\n",
        "plt.show()"
      ]
    },
    {
      "cell_type": "code",
      "execution_count": 19,
      "metadata": {
        "colab": {
          "base_uri": "https://localhost:8080/",
          "height": 448
        },
        "id": "12_T4ew1cboY",
        "outputId": "8e7caaa0-1b87-4e7d-9de8-18269680269b"
      },
      "outputs": [
        {
          "data": {
            "text/plain": [
              "<matplotlib.collections.PathCollection at 0x281a1362540>"
            ]
          },
          "execution_count": 19,
          "metadata": {},
          "output_type": "execute_result"
        },
        {
          "data": {
            "image/png": "[encoded data removed]",
            "text/plain": [
              "<Figure size 640x480 with 1 Axes>"
            ]
          },
          "metadata": {},
          "output_type": "display_data"
        }
      ],
      "source": [
        "plt.scatter(y_test,y_pred)"
      ]
    },
    {
      "cell_type": "code",
      "execution_count": 20,
      "metadata": {},
      "outputs": [
        {
          "name": "stdout",
          "output_type": "stream",
          "text": [
            "Note: you may need to restart the kernel to use updated packages.\n"
          ]
        }
      ],
      "source": [
        "pip freeze>requirements.txt\n"
      ]
    }
  ],
  "metadata": {
    "colab": {
      "provenance": []
    },
    "kernelspec": {
      "display_name": "Python 3",
      "language": "python",
      "name": "python3"
    },
    "language_info": {
      "codemirror_mode": {
        "name": "ipython",
        "version": 3
      },
      "file_extension": ".py",
      "mimetype": "text/x-python",
      "name": "python",
      "nbconvert_exporter": "python",
      "pygments_lexer": "ipython3",
      "version": "3.12.5"
    }
  },
  "nbformat": 4,
  "nbformat_minor": 0
}
